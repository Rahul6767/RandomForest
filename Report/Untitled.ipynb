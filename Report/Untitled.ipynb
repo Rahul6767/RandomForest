{
 "cells": [
  {
   "cell_type": "code",
   "execution_count": 27,
   "id": "5cfe62d0",
   "metadata": {},
   "outputs": [],
   "source": [
    "import numpy as np \n",
    "import pandas as pd \n",
    "import matplotlib.pyplot as plt\n",
    "import seaborn as sns\n",
    "\n",
    "from sklearn.metrics import accuracy_score, classification_report, confusion_matrix\n",
    "\n",
    "import os "
   ]
  },
  {
   "cell_type": "code",
   "execution_count": 28,
   "id": "005dc3cd",
   "metadata": {},
   "outputs": [
    {
     "data": {
      "text/plain": [
       "['.DS_Store',\n",
       " 'Untitled.ipynb',\n",
       " 'entropy',\n",
       " 'gini',\n",
       " 'readme.txt',\n",
       " '.ipynb_checkpoints',\n",
       " 'max_val']"
      ]
     },
     "execution_count": 28,
     "metadata": {},
     "output_type": "execute_result"
    }
   ],
   "source": [
    "os.listdir()"
   ]
  },
  {
   "cell_type": "code",
   "execution_count": 33,
   "id": "4469aca4",
   "metadata": {},
   "outputs": [
    {
     "name": "stdout",
     "output_type": "stream",
     "text": [
      "(array([0, 1]), array([63, 25]))\n",
      "(array([0, 1]), array([66, 22]))\n",
      "              precision    recall  f1-score   support\n",
      "\n",
      "           0       0.83      0.87      0.85        63\n",
      "           1       0.64      0.56      0.60        25\n",
      "\n",
      "    accuracy                           0.78        88\n",
      "   macro avg       0.73      0.72      0.72        88\n",
      "weighted avg       0.78      0.78      0.78        88\n",
      "\n",
      "[[55  8]\n",
      " [11 14]]\n",
      "====\n",
      "(array([0, 1]), array([63, 25]))\n",
      "(array([0, 1]), array([66, 22]))\n",
      "              precision    recall  f1-score   support\n",
      "\n",
      "           0       0.83      0.87      0.85        63\n",
      "           1       0.64      0.56      0.60        25\n",
      "\n",
      "    accuracy                           0.78        88\n",
      "   macro avg       0.73      0.72      0.72        88\n",
      "weighted avg       0.78      0.78      0.78        88\n",
      "\n",
      "[[55  8]\n",
      " [11 14]]\n",
      "====\n",
      "(array([0, 1]), array([63, 25]))\n",
      "(array([0, 1]), array([29, 59]))\n",
      "              precision    recall  f1-score   support\n",
      "\n",
      "           0       0.86      0.40      0.54        63\n",
      "           1       0.36      0.84      0.50        25\n",
      "\n",
      "    accuracy                           0.52        88\n",
      "   macro avg       0.61      0.62      0.52        88\n",
      "weighted avg       0.72      0.52      0.53        88\n",
      "\n",
      "[[25 38]\n",
      " [ 4 21]]\n",
      "====\n"
     ]
    },
    {
     "data": {
      "image/png": "[encoded data removed]",
      "text/plain": [
       "<Figure size 640x480 with 4 Axes>"
      ]
     },
     "metadata": {},
     "output_type": "display_data"
    }
   ],
   "source": [
    "impurity = ['entropy', 'gini', 'max_val']\n",
    "#file_name = []\n",
    "\n",
    "for i_ in impurity:\n",
    "\n",
    "    path = os.path.join( os.getcwd() , i_  )\n",
    "    path_file = os.path.join( os.getcwd() , i_ , i_+'_test.csv'  ) \n",
    "    \n",
    "    \n",
    "    \n",
    "    df = pd.read_csv(path_file)\n",
    "    \n",
    "    y_val = df.iloc[:, 0]\n",
    "    y_pred = df.iloc[:, -1]\n",
    "    \n",
    "    print(np.unique(y_val , return_counts=True))\n",
    "    print(np.unique(y_pred , return_counts=True))\n",
    "    \n",
    "    print( classification_report(y_val, y_pred) ) \n",
    "    \n",
    "    print( confusion_matrix(y_val, y_pred) )\n",
    "    print('====')\n",
    "    \n",
    "    \n",
    "    # Calculate and print classification report\n",
    "    report_dict = classification_report(y_val, y_pred, output_dict=True)\n",
    "    report_df = pd.DataFrame(report_dict).transpose()\n",
    "    report_df.to_excel(os.path.join(path, 'classification_report.xlsx'))\n",
    "    \n",
    "    print(report_df)\n",
    "    \n",
    "    \n",
    "    # Plotting the confusion matrix\n",
    "    categories = np.unique(y_val)  # assuming the unique categories are the same for y_val and y_pred\n",
    "    sns.heatmap(confusion_matrix(y_val, y_pred), annot=True, fmt='d', cmap='Blues', xticklabels=categories, yticklabels=categories)\n",
    "    plt.xlabel('Predicted')\n",
    "    plt.ylabel('Actual')\n",
    "    plt.title('Confusion Matrix')\n",
    "\n",
    "    #plt.show()    \n",
    "    \n",
    "    # Save the PNG file\n",
    "    plt.savefig(os.path.join(path, i_ + '_confusion_matrix.png'))\n",
    "    \n",
    "    plt.close()"
   ]
  },
  {
   "cell_type": "code",
   "execution_count": null,
   "id": "c603abbd",
   "metadata": {},
   "outputs": [],
   "source": []
  },
  {
   "cell_type": "code",
   "execution_count": null,
   "id": "3610df5c",
   "metadata": {},
   "outputs": [],
   "source": []
  }
 ],
 "metadata": {
  "kernelspec": {
   "display_name": "Python 3 (ipykernel)",
   "language": "python",
   "name": "python3"
  },
  "language_info": {
   "codemirror_mode": {
    "name": "ipython",
    "version": 3
   },
   "file_extension": ".py",
   "mimetype": "text/x-python",
   "name": "python",
   "nbconvert_exporter": "python",
   "pygments_lexer": "ipython3",
   "version": "3.11.5"
  }
 },
 "nbformat": 4,
 "nbformat_minor": 5
}
